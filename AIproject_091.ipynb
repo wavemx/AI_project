{
  "nbformat": 4,
  "nbformat_minor": 0,
  "metadata": {
    "colab": {
      "name": "Untitled6.ipynb",
      "provenance": [],
      "collapsed_sections": [],
      "include_colab_link": true
    },
    "kernelspec": {
      "name": "python3",
      "display_name": "Python 3"
    }
  },
  "cells": [
    {
      "cell_type": "markdown",
      "metadata": {
        "id": "view-in-github",
        "colab_type": "text"
      },
      "source": [
        "<a href=\"https://colab.research.google.com/github/wavemx/AI_project/blob/master/AIproject_091.ipynb\" target=\"_parent\"><img src=\"https://colab.research.google.com/assets/colab-badge.svg\" alt=\"Open In Colab\"/></a>"
      ]
    },
    {
      "cell_type": "code",
      "metadata": {
        "id": "_6E63As1gMMj",
        "colab_type": "code",
        "colab": {}
      },
      "source": [
        "!wget https://mpp0xc0ae45ef.blob.core.windows.net/drivendata-mpp-storage/data/19/public/data-release.zip\n",
        "\n",
        "!unzip -o data-release.zip"
      ],
      "execution_count": 0,
      "outputs": []
    },
    {
      "cell_type": "code",
      "metadata": {
        "id": "fH0JhtPxgEua",
        "colab_type": "code",
        "outputId": "ef39284f-2f39-4230-a17b-476305bdccca",
        "colab": {
          "base_uri": "https://localhost:8080/",
          "height": 80
        }
      },
      "source": [
        "import pandas as pd\n",
        "import numpy as np\n",
        "from skimage.io import imread\n",
        "from sklearn.model_selection import train_test_split\n",
        "from matplotlib import pyplot as plt\n",
        "%matplotlib inline\n",
        "\n",
        "import keras\n",
        "from keras import optimizers\n",
        "from keras.utils import to_categorical\n",
        "from keras.layers import Input, Dense, Flatten, Dropout, Conv2D, MaxPooling2D, GlobalAveragePooling2D, Activation, concatenate\n",
        "from keras.layers.advanced_activations import LeakyReLU\n",
        "from keras.layers.advanced_activations import ReLU\n",
        "\n",
        "from keras import optimizers\n",
        "from keras.optimizers import rmsprop\n",
        "from keras import regularizers\n",
        "\n",
        "from keras.layers.normalization import BatchNormalization\n",
        "from keras.models import Model\n",
        "from keras.callbacks import ModelCheckpoint, ReduceLROnPlateau"
      ],
      "execution_count": 5,
      "outputs": [
        {
          "output_type": "stream",
          "text": [
            "Using TensorFlow backend.\n"
          ],
          "name": "stderr"
        },
        {
          "output_type": "display_data",
          "data": {
            "text/html": [
              "<p style=\"color: red;\">\n",
              "The default version of TensorFlow in Colab will soon switch to TensorFlow 2.x.<br>\n",
              "We recommend you <a href=\"https://www.tensorflow.org/guide/migrate\" target=\"_blank\">upgrade</a> now \n",
              "or ensure your notebook will continue to use TensorFlow 1.x via the <code>%tensorflow_version 1.x</code> magic:\n",
              "<a href=\"https://colab.research.google.com/notebooks/tensorflow_version.ipynb\" target=\"_blank\">more info</a>.</p>\n"
            ],
            "text/plain": [
              "<IPython.core.display.HTML object>"
            ]
          },
          "metadata": {
            "tags": []
          }
        }
      ]
    },
    {
      "cell_type": "code",
      "metadata": {
        "id": "JGBPBSy2eeW0",
        "colab_type": "code",
        "colab": {}
      },
      "source": [
        "\n",
        "__author__ = 'Greg Gasowski'\n",
        "__copyright__ = 'Copyright 2019, WaveMax LLC'\n",
        "__credits__ = ['Greg Gasowski']\n",
        "__license__ = 'MIT'\n",
        "__version__ = '1.0'\n",
        "__maintainer__ = 'Greg Gasowski'\n",
        "__email__ = 'gregory.gasowski@gmail.com'\n",
        "__status__ = 'Production'\n"
      ],
      "execution_count": 0,
      "outputs": []
    },
    {
      "cell_type": "code",
      "metadata": {
        "id": "2TqsXsx7gSBa",
        "colab_type": "code",
        "outputId": "6b049cdf-c772-469f-cadc-e51fb22208a7",
        "colab": {
          "base_uri": "https://localhost:8080/",
          "height": 136
        }
      },
      "source": [
        "train_df = pd.read_csv('train_labels.csv', index_col=0)\n",
        "\n",
        "train_df['current_file'] = train_df.index.map(lambda id: f'train/{id}_c.png')\n",
        "train_df['voltage_file'] = train_df.index.map(lambda id: f'train/{id}_v.png')\n",
        "\n",
        "print(train_df.head())"
      ],
      "execution_count": 7,
      "outputs": [
        {
          "output_type": "stream",
          "text": [
            "      appliance      current_file      voltage_file\n",
            "id                                                 \n",
            "1000          4  train/1000_c.png  train/1000_v.png\n",
            "1001          9  train/1001_c.png  train/1001_v.png\n",
            "1002          4  train/1002_c.png  train/1002_v.png\n",
            "1003          9  train/1003_c.png  train/1003_v.png\n",
            "1004          6  train/1004_c.png  train/1004_v.png\n"
          ],
          "name": "stdout"
        }
      ]
    },
    {
      "cell_type": "markdown",
      "metadata": {
        "id": "oE0lzAR-ga1Q",
        "colab_type": "text"
      },
      "source": [
        "Helper Function"
      ]
    },
    {
      "cell_type": "code",
      "metadata": {
        "id": "JQi-HoEtgdI8",
        "colab_type": "code",
        "colab": {}
      },
      "source": [
        "def read_spectograms(file_paths, img_rows, img_cols, as_gray, channels):\n",
        "  \"\"\"\n",
        "  Reads the spectogram files from disk and normalizes the pixel values\n",
        "    @params:\n",
        "      file_paths - Array of file paths to read from\n",
        "      img_rows - The image height.\n",
        "      img_cols - The image width.\n",
        "      as_grey - Read the image as Greyscale or RGB.\n",
        "      channels - Number of channels.\n",
        "    @returns:\n",
        "      The created and compiled model (Model)        \n",
        "  \"\"\"\n",
        "  images = []\n",
        "  \n",
        "  for file_path in file_paths:\n",
        "    images.append(imread(file_path, as_grey = as_gray))\n",
        "  \n",
        "  images = np.asarray(images, dtype=np.float32)\n",
        "  \n",
        "  # normalize\n",
        "  images = images / np.max(images)\n",
        "  \n",
        "  # reshape to match Keras expectaions\n",
        "  #images = images.reshape(images.shape[0], img_rows, img_cols, channels)\n",
        "  images = images.reshape(images.shape[0], img_rows, img_cols, channels)\n",
        "\n",
        "  return images"
      ],
      "execution_count": 0,
      "outputs": []
    },
    {
      "cell_type": "markdown",
      "metadata": {
        "id": "Nd2Gn4M9gkVo",
        "colab_type": "text"
      },
      "source": [
        "Parameters\n"
      ]
    },
    {
      "cell_type": "code",
      "metadata": {
        "id": "9xfB8tV7gk8s",
        "colab_type": "code",
        "colab": {}
      },
      "source": [
        "as_gray = True\n",
        "in_channel = 4\n",
        "\n",
        "if as_gray:\n",
        "  in_channel = 1\n",
        "\n",
        "img_rows, img_cols = 128, 176\n",
        "num_classes = 11 # number of appliances\n",
        "\n",
        "batch_size = 32\n",
        "epochs = 160\n",
        "input_shape = (img_rows, img_cols, in_channel)\n",
        "input_img = Input(shape = input_shape)"
      ],
      "execution_count": 0,
      "outputs": []
    },
    {
      "cell_type": "markdown",
      "metadata": {
        "id": "WzebWYz9gm5T",
        "colab_type": "text"
      },
      "source": [
        "Current files\n"
      ]
    },
    {
      "cell_type": "code",
      "metadata": {
        "id": "aCK82_udguv1",
        "colab_type": "code",
        "outputId": "efc14dc9-4170-457f-a547-40cde5bfbeaf",
        "colab": {
          "base_uri": "https://localhost:8080/",
          "height": 51
        }
      },
      "source": [
        "x_train_current = read_spectograms(train_df.current_file.values, img_rows, img_cols, as_gray, in_channel)"
      ],
      "execution_count": 11,
      "outputs": [
        {
          "output_type": "stream",
          "text": [
            "/usr/local/lib/python3.6/dist-packages/skimage/io/_io.py:48: UserWarning: `as_grey` has been deprecated in favor of `as_gray`\n",
            "  warn('`as_grey` has been deprecated in favor of `as_gray`')\n"
          ],
          "name": "stderr"
        }
      ]
    },
    {
      "cell_type": "markdown",
      "metadata": {
        "id": "KzAol9tngv2A",
        "colab_type": "text"
      },
      "source": [
        "Voltage files"
      ]
    },
    {
      "cell_type": "code",
      "metadata": {
        "id": "kPf-cZLMgwC4",
        "colab_type": "code",
        "outputId": "4c0e34ca-5ab1-4d10-9f47-a2aad6d9e309",
        "colab": {
          "base_uri": "https://localhost:8080/",
          "height": 51
        }
      },
      "source": [
        "x_train_voltage = read_spectograms(train_df.voltage_file.values, img_rows, img_cols, as_gray, in_channel)"
      ],
      "execution_count": 12,
      "outputs": [
        {
          "output_type": "stream",
          "text": [
            "/usr/local/lib/python3.6/dist-packages/skimage/io/_io.py:48: UserWarning: `as_grey` has been deprecated in favor of `as_gray`\n",
            "  warn('`as_grey` has been deprecated in favor of `as_gray`')\n"
          ],
          "name": "stderr"
        }
      ]
    },
    {
      "cell_type": "markdown",
      "metadata": {
        "id": "9_NUxfV0g4mu",
        "colab_type": "text"
      },
      "source": [
        "Labels\n"
      ]
    },
    {
      "cell_type": "code",
      "metadata": {
        "id": "tKu9vDnSg43R",
        "colab_type": "code",
        "colab": {}
      },
      "source": [
        "labels = train_df.appliance.values\n",
        "\n",
        "# convert class vectors to binary class matrices One Hot Encoding\n",
        "labels = keras.utils.to_categorical(labels, num_classes)"
      ],
      "execution_count": 0,
      "outputs": []
    },
    {
      "cell_type": "markdown",
      "metadata": {
        "id": "33LeFAMbg_88",
        "colab_type": "text"
      },
      "source": [
        "Show Data"
      ]
    },
    {
      "cell_type": "code",
      "metadata": {
        "id": "uACzO0bohAR1",
        "colab_type": "code",
        "outputId": "aa425204-b5b3-42e9-a40f-cfc837b0a24d",
        "colab": {
          "base_uri": "https://localhost:8080/",
          "height": 227
        }
      },
      "source": [
        "appliances = [\n",
        "    'Heater',\n",
        "    'Fridge', \n",
        "    'Hairdryer', \n",
        "    'Microwave', \n",
        "    'Air Conditioner',\n",
        "    'Vacuum', \n",
        "    'Incandescent Light Bulb', \n",
        "    'Laptop', \n",
        "    'Compact Fluorescent Lamp',\n",
        "    'Fan',\n",
        "    'Washing Machine',\n",
        "]\n",
        "\n",
        "# pick a random index from the list\n",
        "rn_appliance = np.random.choice(train_df.appliance.values)\n",
        "rn_label = train_df.appliance.values[rn_appliance]\n",
        "rn_current = x_train_current[rn_appliance]\n",
        "rn_voltage = x_train_voltage[rn_appliance]\n",
        "\n",
        "plt.figure()\n",
        "plt.axis('off')\n",
        "\n",
        "plt.suptitle(f\"{appliances[rn_label]} (Label: {rn_label})\", fontsize=\"x-large\")\n",
        "\n",
        "plt.subplot(121)\n",
        "curr_img = None\n",
        "if as_gray:\n",
        "  curr_img = np.reshape(rn_current, (img_rows, img_cols))\n",
        "else:\n",
        "  curr_img = np.reshape(rn_current, (img_rows, img_cols, in_channel))\n",
        "\n",
        "plt.imshow(curr_img, cmap='gray')\n",
        "plt.title(\"Current\")\n",
        "plt.xticks([])\n",
        "plt.yticks([])\n",
        "\n",
        "plt.subplot(122)\n",
        "if as_gray:\n",
        "  curr_img = np.reshape(rn_voltage, (img_rows, img_cols))\n",
        "else:\n",
        "  curr_img = np.reshape(rn_voltage, (img_rows, img_cols, in_channel))\n",
        "\n",
        "plt.imshow(curr_img, cmap='gray')\n",
        "plt.title(\"Voltage\")\n",
        "plt.xticks([])\n",
        "plt.yticks([])\n",
        "plt.show()"
      ],
      "execution_count": 14,
      "outputs": [
        {
          "output_type": "display_data",
          "data": {
            "image/png": "[encoded data removed]",
            "text/plain": [
              "<Figure size 432x288 with 2 Axes>"
            ]
          },
          "metadata": {
            "tags": []
          }
        }
      ]
    },
    {
      "cell_type": "markdown",
      "metadata": {
        "id": "qgAvabDchHcd",
        "colab_type": "text"
      },
      "source": [
        "Create and Train Model"
      ]
    },
    {
      "cell_type": "markdown",
      "metadata": {
        "id": "tmpzDsTBhAoW",
        "colab_type": "text"
      },
      "source": [
        "Split in train and train batches"
      ]
    },
    {
      "cell_type": "code",
      "metadata": {
        "id": "abVSTonVhvZA",
        "colab_type": "code",
        "colab": {}
      },
      "source": [
        "# stack so we can split on the same pair of images\n",
        "x_train_comp = np.stack((x_train_current, x_train_voltage), axis=4)\n",
        "\n",
        "x_train, x_test, y_train, y_test = train_test_split(x_train_comp, labels, test_size = 0.3, random_state=666)\n",
        "\n",
        "# take them apart\n",
        "x_train_current = x_train[:,:,:,:,0]\n",
        "x_test_current = x_test[:,:,:,:,0]\n",
        "\n",
        "x_train_voltage = x_train[:,:,:,:,1]\n",
        "x_test_voltage = x_test[:,:,:,:,1]"
      ],
      "execution_count": 0,
      "outputs": []
    },
    {
      "cell_type": "markdown",
      "metadata": {
        "id": "zX9frIAEhwkk",
        "colab_type": "text"
      },
      "source": [
        "Create the Model\n"
      ]
    },
    {
      "cell_type": "code",
      "metadata": {
        "id": "xrLHTmdKh9Fb",
        "colab_type": "code",
        "colab": {}
      },
      "source": [
        "def create_convolution_layers(input_img):\n",
        "  #model = Conv2D(32, (3, 3), padding='same', input_shape=input_shape)(input_img)\n",
        "  #model = LeakyReLU(alpha=0.1)(model)\n",
        "  #model = MaxPooling2D((2, 2),padding='same')(model)\n",
        "  #model = Dropout(0.25)(model)\n",
        "  \n",
        "  #model = Conv2D(64, (3, 3), padding='same')(model)\n",
        "  #model = LeakyReLU(alpha=0.1)(model)\n",
        "  #model = MaxPooling2D(pool_size=(2, 2),padding='same')(model)\n",
        "  #model = Dropout(0.25)(model)\n",
        "    \n",
        "  #model = Conv2D(128, (3, 3), padding='same')(model)\n",
        "  #model = LeakyReLU(alpha=0.1)(model)\n",
        "  ##model = regularizers.l2(200) #add for test\n",
        "  #model = MaxPooling2D(pool_size=(2, 2),padding='same')(model)\n",
        "  #model = Dropout(0.4)(model)\n",
        "\n",
        "  #model = Conv2D(512, (3, 3), padding='same')(model)\n",
        "  #model = LeakyReLU(alpha=0.1)(model)\n",
        "  #model = MaxPooling2D(pool_size=(2, 2),padding='same')(model)\n",
        "  #model = Dropout(0.4)(model)\n",
        "\n",
        "  model = Conv2D(32, (3, 3), padding='same', input_shape=input_shape)(input_img)\n",
        "  model = ReLU()(model)\n",
        "  model = MaxPooling2D((2, 2),padding='same')(model)\n",
        "  model = Dropout(0.25)(model)\n",
        "  \n",
        "  model = Conv2D(64, (3, 3), padding='same')(model)\n",
        "  model = ReLU()(model)\n",
        "  model = MaxPooling2D(pool_size=(2, 2),padding='same')(model)\n",
        "  model = Dropout(0.25)(model)\n",
        "    \n",
        "  model = Conv2D(128, (3, 3), padding='same')(model)\n",
        "  model = ReLU()(model)\n",
        "  model = MaxPooling2D(pool_size=(2, 2),padding='same')(model)\n",
        "  model = Dropout(0.5)(model)\n",
        "\n",
        "  #model = Conv2D(512, (3, 3), padding='same')(model)\n",
        "  #model = ReLU()(model)\n",
        "  #model = MaxPooling2D(pool_size=(2, 2),padding='same')(model)\n",
        "  #model = Dropout(0.4)(model)\n",
        "\n",
        "    \n",
        "  return model"
      ],
      "execution_count": 0,
      "outputs": []
    },
    {
      "cell_type": "code",
      "metadata": {
        "id": "rmI-xdzYh95z",
        "colab_type": "code",
        "colab": {}
      },
      "source": [
        "current_input = Input(shape=input_shape)\n",
        "current_model = create_convolution_layers(current_input)\n",
        "\n",
        "voltage_input = Input(shape=input_shape)\n",
        "voltage_model = create_convolution_layers(voltage_input)\n",
        "\n",
        "conv = concatenate([current_model, voltage_model])\n",
        "\n",
        "conv = Flatten()(conv)\n",
        "\n",
        "dense = Dense(512)(conv)\n",
        "#dense = LeakyReLU(alpha=0.1)(dense)\n",
        "dense = ReLU()(dense)\n",
        "#kernel_regularizer=regularizers.l2(0.01)\n",
        "dense = Dropout(0.9)(dense)\n",
        "\n",
        "output = Dense(num_classes, activation='softmax')(dense)\n",
        "\n",
        "model = Model(inputs=[current_input, voltage_input], outputs=[output])\n",
        "\n",
        "opt = optimizers.Adam()\n",
        "#sgd = SGD(lr=0.1, momentum=0.9)\n",
        "#opt = optimizers.rmsprop()\n",
        "\n",
        "model.compile(loss='categorical_crossentropy',\n",
        "              optimizer=opt,\n",
        "              metrics=['accuracy'])\n",
        "\n",
        "print(model.summary())"
      ],
      "execution_count": 0,
      "outputs": []
    },
    {
      "cell_type": "markdown",
      "metadata": {
        "id": "brN2lro6iHJH",
        "colab_type": "text"
      },
      "source": [
        "Train Model"
      ]
    },
    {
      "cell_type": "code",
      "metadata": {
        "id": "dVuOxv5piJZe",
        "colab_type": "code",
        "colab": {}
      },
      "source": [
        "best_weights_file=\"w.best.hdf5\"\n",
        "checkpoint = ModelCheckpoint(best_weights_file, monitor='val_acc', verbose=1, save_best_only=True, mode='max')\n",
        "#lr_reducer = ReduceLROnPlateau(verbose=1)\n",
        "\n",
        "callbacks = [checkpoint]\n",
        "\n",
        "model.fit([x_train_current, x_train_voltage], y_train,\n",
        "          batch_size=batch_size,\n",
        "          epochs=epochs,\n",
        "          callbacks=callbacks,\n",
        "          verbose=1,\n",
        "          validation_data=([x_test_current, x_test_voltage], y_test),\n",
        "          shuffle=True)"
      ],
      "execution_count": 0,
      "outputs": []
    },
    {
      "cell_type": "markdown",
      "metadata": {
        "id": "1zF5AbEliKWy",
        "colab_type": "text"
      },
      "source": [
        "Basic Evaluation"
      ]
    },
    {
      "cell_type": "code",
      "metadata": {
        "id": "Eq44H2xjiWVX",
        "colab_type": "code",
        "colab": {}
      },
      "source": [
        "# load weights\n",
        "model.load_weights(best_weights_file)\n",
        "\n",
        "final_loss, final_acc = model.evaluate([x_test_current, x_test_voltage], y_test, verbose=1)\n",
        "print(\"Final loss: {0:.6f}, final accuracy: {1:.6f}\".format(final_loss, final_acc))  "
      ],
      "execution_count": 0,
      "outputs": []
    },
    {
      "cell_type": "markdown",
      "metadata": {
        "id": "bEwTOHHLiXX-",
        "colab_type": "text"
      },
      "source": [
        "Predict\n"
      ]
    },
    {
      "cell_type": "code",
      "metadata": {
        "id": "jukzUlZbiXj7",
        "colab_type": "code",
        "outputId": "a6b91053-9714-4755-c1b9-7b4167e7bebd",
        "colab": {
          "base_uri": "https://localhost:8080/",
          "height": 51
        }
      },
      "source": [
        "predict_df = pd.read_csv('submission_format.csv', index_col=0)\n",
        "\n",
        "predict_df['current_file'] = predict_df.index.map(lambda id: f'test/{id}_c.png')\n",
        "predict_df['voltage_file'] = predict_df.index.map(lambda id: f'test/{id}_v.png')\n",
        "\n",
        "x_test_current = read_spectograms(predict_df.current_file.values, img_rows, img_cols, as_gray, in_channel)\n",
        "x_test_voltage = read_spectograms(predict_df.voltage_file.values, img_rows, img_cols, as_gray, in_channel)"
      ],
      "execution_count": 98,
      "outputs": [
        {
          "output_type": "stream",
          "text": [
            "/usr/local/lib/python3.6/dist-packages/skimage/io/_io.py:48: UserWarning: `as_grey` has been deprecated in favor of `as_gray`\n",
            "  warn('`as_grey` has been deprecated in favor of `as_gray`')\n"
          ],
          "name": "stderr"
        }
      ]
    },
    {
      "cell_type": "code",
      "metadata": {
        "id": "FIR5oCe4ieV9",
        "colab_type": "code",
        "colab": {}
      },
      "source": [
        "#get the predictions for the test data\n",
        "predicted_classes = model.predict([x_test_current, x_test_voltage])\n",
        "\n",
        "predict_df.appliance = np.argmax(predicted_classes,axis=1)\n",
        "\n",
        "predict_df = predict_df.drop(['current_file', 'voltage_file'], axis=1)\n",
        "\n",
        "predict_df.to_csv('submission.csv')\n",
        "\n",
        "from google.colab import files\n",
        "\n",
        "files.download('submission.csv')"
      ],
      "execution_count": 0,
      "outputs": []
    },
    {
      "cell_type": "code",
      "metadata": {
        "id": "v4msPW626Wop",
        "colab_type": "code",
        "colab": {}
      },
      "source": [
        ""
      ],
      "execution_count": 0,
      "outputs": []
    }
  ]
}